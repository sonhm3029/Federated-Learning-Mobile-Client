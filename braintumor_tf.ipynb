{
  "cells": [
    {
      "cell_type": "code",
      "execution_count": 1,
      "metadata": {
        "id": "WpgHgl2wJAai"
      },
      "outputs": [],
      "source": [
        "DATASET = \"/content/drive/MyDrive/ml_isofh/data/brain_tumor_2_8\"\n",
        "saved_model_dir = \"/content/drive/MyDrive/saved_model\""
      ]
    },
    {
      "cell_type": "code",
      "execution_count": 2,
      "metadata": {
        "id": "Quwfbr-0LvB4"
      },
      "outputs": [],
      "source": [
        "from tensorflow import keras\n",
        "import tensorflow as tf\n",
        "from tensorflow.keras.preprocessing.image import ImageDataGenerator\n",
        "\n",
        "import numpy as np\n",
        "import cv2\n",
        "import imutils\n",
        "import matplotlib.pyplot as plt"
      ]
    },
    {
      "cell_type": "code",
      "execution_count": 4,
      "metadata": {
        "id": "t2YFZ-WaJ3Gd"
      },
      "outputs": [],
      "source": [
        "\n",
        "\n",
        "IMG_SIZE = (160, 160)\n",
        "IMG_SHAPE = (160, 160, 3)\n",
        "MEAN = [0.23740229, 0.23729787, 0.23700129]\n",
        "STD = [0.23173477, 0.23151317, 0.23122775]\n",
        "\n",
        "preprocess_input = keras.applications.mobilenet_v2.preprocess_input\n",
        "\n",
        "inputs = keras.Input(shape=IMG_SIZE)\n",
        "base_model = keras.applications.MobileNetV2(\n",
        "    input_shape=IMG_SHAPE,\n",
        "    include_top=False\n",
        ")\n",
        "\n",
        "base_model.trainable = False\n",
        "global_average_layer = keras.layers.GlobalAveragePooling2D()\n",
        "prediction_layer = keras.layers.Dense(1)\n",
        "\n",
        "class ImagePreprocessLayer(tf.keras.layers.Layer):\n",
        "    def __init__(self):\n",
        "      super(ImagePreprocessLayer, self).__init__()\n",
        "    def call(self, img):\n",
        "      print(img)\n",
        "      img = tf.convert_to_tensor(img)\n",
        "      gray = cv2.cvtColor(img, cv2.COLOR_RGB2GRAY)\n",
        "      gray = cv2.GaussianBlur(gray, (5, 5), 0)\n",
        "      # threshold the image, then perform a series of erosions +\n",
        "      # dilations to remove any small regions of noise\n",
        "      thresh = cv2.threshold(gray, 60, 255, cv2.THRESH_BINARY)[1]\n",
        "      thresh = cv2.erode(thresh, None, iterations=2)\n",
        "      thresh = cv2.dilate(thresh, None, iterations=2)\n",
        "      # find contours in thresholded image, then grab the largest one\n",
        "      cnts = cv2.findContours(thresh.copy(), cv2.RETR_EXTERNAL, cv2.CHAIN_APPROX_SIMPLE)\n",
        "      cnts = imutils.grab_contours(cnts)\n",
        "      c = max(cnts, key=cv2.contourArea)\n",
        "      # find the extreme points\n",
        "      extLeft = tuple(c[c[:, :, 0].argmin()][0])\n",
        "      extRight = tuple(c[c[:, :, 0].argmax()][0])\n",
        "      extTop = tuple(c[c[:, :, 1].argmin()][0])\n",
        "      extBot = tuple(c[c[:, :, 1].argmax()][0])\n",
        "      ADD_PIXELS = 0\n",
        "      new_img = img[extTop[1]-ADD_PIXELS:extBot[1]+ADD_PIXELS, extLeft[0]-ADD_PIXELS:extRight[0]+ADD_PIXELS].copy()\n",
        "      return tf.convert_to_tensor(new_img)\n",
        "\n",
        "\n",
        "def img_enhanced(img):\n",
        "  print(type(img))\n",
        "  img = img.numpy()\n",
        "  print(img, \"OK\")\n",
        "\n",
        "  gray = cv2.cvtColor(img, cv2.COLOR_RGB2GRAY)\n",
        "  gray = cv2.GaussianBlur(gray, (5, 5), 0)\n",
        "  # threshold the image, then perform a series of erosions +\n",
        "  # dilations to remove any small regions of noise\n",
        "  thresh = cv2.threshold(gray, 60, 255, cv2.THRESH_BINARY)[1]\n",
        "  thresh = cv2.erode(thresh, None, iterations=2)\n",
        "  thresh = cv2.dilate(thresh, None, iterations=2)\n",
        "  # find contours in thresholded image, then grab the largest one\n",
        "  cnts = cv2.findContours(thresh.copy(), cv2.RETR_EXTERNAL, cv2.CHAIN_APPROX_SIMPLE)\n",
        "  cnts = imutils.grab_contours(cnts)\n",
        "  c = max(cnts, key=cv2.contourArea)\n",
        "  # find the extreme points\n",
        "  extLeft = tuple(c[c[:, :, 0].argmin()][0])\n",
        "  extRight = tuple(c[c[:, :, 0].argmax()][0])\n",
        "  extTop = tuple(c[c[:, :, 1].argmin()][0])\n",
        "  extBot = tuple(c[c[:, :, 1].argmax()][0])\n",
        "  ADD_PIXELS = add_pixels_value\n",
        "  new_img = img[extTop[1]-ADD_PIXELS:extBot[1]+ADD_PIXELS, extLeft[0]-ADD_PIXELS:extRight[0]+ADD_PIXELS].copy()\n",
        "  return new_img\n",
        "\n",
        "inputs = keras.Input(shape=IMG_SHAPE)\n",
        "x = preprocess_input(inputs)\n",
        "x = keras.layers.Normalization(mean=MEAN, variance=STD)(x)\n",
        "x = base_model(x, training=False)\n",
        "x = global_average_layer(x)\n",
        "x = keras.layers.Dropout(0.2)(x)\n",
        "outputs = prediction_layer(x)\n",
        "model = keras.Model(inputs, outputs)\n",
        "\n",
        "\n",
        "class Model(tf.Module):\n",
        "    def __init__(self):\n",
        "      self.model = model\n",
        "      self.model.compile(optimizer=tf.keras.optimizers.Adam(), loss=keras.losses.BinaryCrossentropy(from_logits=True))\n",
        "\n",
        "    @tf.function(input_signature=[\n",
        "        tf.TensorSpec([None, 160, 160, 3], tf.float32),\n",
        "        tf.TensorSpec([None, ], tf.float32),\n",
        "    ])\n",
        "    def train(self, x, y):\n",
        "      with tf.GradientTape() as tape:\n",
        "          pred = self.model(x)\n",
        "          loss = self.model.loss(y, pred)\n",
        "      gradients = tape.gradient(loss, self.model.trainable_variables)\n",
        "      self.model.optimizer.apply_gradients(\n",
        "          zip(gradients, self.model.trainable_variables))\n",
        "      result = {\"loss\": loss}\n",
        "      return result\n",
        "\n",
        "    @tf.function(input_signature=[tf.TensorSpec(shape=[], dtype=tf.string)])\n",
        "    def save(self, checkpoint_path):\n",
        "      tensor_names = [weight.name for weight in self.model.weights]\n",
        "      tensors_to_save = [weight.read_value() for weight in self.model.weights]\n",
        "      tf.raw_ops.Save(\n",
        "          filename=checkpoint_path, tensor_names=tensor_names,\n",
        "          data=tensors_to_save, name='save')\n",
        "      return {\n",
        "          \"checkpoint_path\": checkpoint_path\n",
        "      }\n",
        "\n",
        "    @tf.function(input_signature=[tf.TensorSpec(shape=[], dtype=tf.string)])\n",
        "    def restore(self, checkpoint_path):\n",
        "      restored_tensors = {}\n",
        "      for var in self.model.weights:\n",
        "          restored = tf.raw_ops.Restore(\n",
        "              file_pattern=checkpoint_path, tensor_name=var.name, dt=var.dtype,\n",
        "              name='restore')\n",
        "          var.assign(restored)\n",
        "          restored_tensors[var.name] = restored\n",
        "      return restored_tensors\n",
        "\n",
        "    @tf.function(input_signature=[\n",
        "      tf.TensorSpec(shape=[], dtype=tf.string)\n",
        "    ])\n",
        "    def get_trainable_weights(self,str=\"OK\"):\n",
        "      trainable_weights = [weight.read_value() for weight in self.model.trainable_weights]\n",
        "      return {\n",
        "          \"weights\": trainable_weights[0],\n",
        "          \"bias\": trainable_weights[1]\n",
        "      }\n",
        "\n",
        "    @tf.function(input_signature=[\n",
        "        tf.TensorSpec(shape=[1280, 1], dtype=tf.float32),\n",
        "        tf.TensorSpec(shape=[1,], dtype=tf.float32)\n",
        "    ])\n",
        "    def update_weights(self, w, b):\n",
        "      current_weight = self.model.trainable_variables;\n",
        "      new_weights = [w, b]\n",
        "      for current_val, new_val in zip(current_weight, new_weights):\n",
        "          current_val.assign(tf.convert_to_tensor(new_val, dtype=current_val.dtype))\n",
        "      return {\n",
        "          \"message\": \"Weights updated successfully.\"\n",
        "      }\n",
        "\n",
        "\n",
        "\n",
        "    @tf.function(input_signature=[\n",
        "        tf.TensorSpec([None, 160, 160, 3], tf.float32)\n",
        "    ])\n",
        "    def infer(self, x):\n",
        "      logits = self.model(x)\n",
        "      probabilities = tf.nn.sigmoid(x)\n",
        "      return {\n",
        "          \"output\": probabilities,\n",
        "          \"logits\": logits\n",
        "      }\n",
        "\n",
        "    @tf.function(input_signature=[\n",
        "      tf.TensorSpec(shape=[], dtype=tf.string)\n",
        "    ])\n",
        "    def summary(self, str=\"OK\"):\n",
        "      return self.model.summary()\n"
      ]
    },
    {
      "cell_type": "code",
      "execution_count": 5,
      "metadata": {
        "id": "WQu1svO_MkZD"
      },
      "outputs": [],
      "source": [
        "classes = [\"NO\", \"YES\"]"
      ]
    },
    {
      "cell_type": "code",
      "execution_count": 6,
      "metadata": {
        "colab": {
          "base_uri": "https://localhost:8080/"
        },
        "id": "pvRffkEkKPoa",
        "outputId": "af50c67f-21f8-41b3-ec37-ce2c6e8ae7e0"
      },
      "outputs": [
        {
          "output_type": "stream",
          "name": "stdout",
          "text": [
            "Found 202 images belonging to 2 classes.\n",
            "Found 51 images belonging to 2 classes.\n"
          ]
        }
      ],
      "source": [
        "train_gen = ImageDataGenerator(\n",
        "    rotation_range=15,\n",
        "    width_shift_range=0.05,\n",
        "    height_shift_range=0.05,\n",
        "    rescale=1./255,\n",
        "    shear_range=0.05,\n",
        "    brightness_range=[0.1, 1.5],\n",
        "    horizontal_flip=True,\n",
        "    vertical_flip=True\n",
        "\n",
        ")\n",
        "test_gen = ImageDataGenerator(\n",
        "    rescale=1./255\n",
        ")\n",
        "\n",
        "train_batches = train_gen.flow_from_directory(\n",
        "    DATASET + \"/TRAIN\",\n",
        "    target_size=(160, 160),\n",
        "    class_mode='binary',\n",
        "    batch_size=4,\n",
        "    shuffle=True,\n",
        "    color_mode=\"rgb\",\n",
        "    classes=classes\n",
        ")\n",
        "\n",
        "test_batches = test_gen.flow_from_directory(\n",
        "    DATASET + \"/TEST\",\n",
        "    target_size=(160, 160),\n",
        "    class_mode='binary',\n",
        "    batch_size=4,\n",
        "    shuffle=False,\n",
        "    color_mode=\"rgb\",\n",
        "    classes=classes\n",
        ")"
      ]
    },
    {
      "cell_type": "code",
      "execution_count": null,
      "metadata": {
        "colab": {
          "base_uri": "https://localhost:8080/"
        },
        "id": "rMhqYIrkYa0q",
        "outputId": "3098244e-8cb8-4766-ec17-4ecd265046fa"
      },
      "outputs": [
        {
          "data": {
            "text/plain": [
              "51"
            ]
          },
          "execution_count": 7,
          "metadata": {},
          "output_type": "execute_result"
        }
      ],
      "source": [
        "len(train_batches)"
      ]
    },
    {
      "cell_type": "code",
      "execution_count": null,
      "metadata": {
        "colab": {
          "base_uri": "https://localhost:8080/"
        },
        "id": "N_APG4ACp6gA",
        "outputId": "6a790582-882a-4881-b877-5734a0496387"
      },
      "outputs": [
        {
          "name": "stdout",
          "output_type": "stream",
          "text": [
            "Model: \"model\"\n",
            "_________________________________________________________________\n",
            " Layer (type)                Output Shape              Param #   \n",
            "=================================================================\n",
            " input_3 (InputLayer)        [(None, 160, 160, 3)]     0         \n",
            "                                                                 \n",
            " tf.math.truediv (TFOpLambda  (None, 160, 160, 3)      0         \n",
            " )                                                               \n",
            "                                                                 \n",
            " tf.math.subtract (TFOpLambd  (None, 160, 160, 3)      0         \n",
            " a)                                                              \n",
            "                                                                 \n",
            " normalization (Normalizatio  (None, 160, 160, 3)      0         \n",
            " n)                                                              \n",
            "                                                                 \n",
            " mobilenetv2_1.00_160 (Funct  (None, 5, 5, 1280)       2257984   \n",
            " ional)                                                          \n",
            "                                                                 \n",
            " global_average_pooling2d (G  (None, 1280)             0         \n",
            " lobalAveragePooling2D)                                          \n",
            "                                                                 \n",
            " dropout (Dropout)           (None, 1280)              0         \n",
            "                                                                 \n",
            " dense (Dense)               (None, 1)                 1281      \n",
            "                                                                 \n",
            "=================================================================\n",
            "Total params: 2,259,265\n",
            "Trainable params: 1,281\n",
            "Non-trainable params: 2,257,984\n",
            "_________________________________________________________________\n"
          ]
        }
      ],
      "source": [
        "model.summary()"
      ]
    },
    {
      "cell_type": "code",
      "execution_count": 7,
      "metadata": {
        "id": "D3kbq90bM7sY"
      },
      "outputs": [],
      "source": [
        "NUM_EPOCHS = 100\n",
        "step_per_epochs = len(train_batches)\n",
        "epochs = np.arange(1, NUM_EPOCHS + 1, 1)\n",
        "losses = np.zeros([NUM_EPOCHS])\n",
        "m = Model()\n",
        "\n",
        "# for i in range(NUM_EPOCHS):\n",
        "#   print(f\"Training epoch {i + 1}/{NUM_EPOCHS}\")\n",
        "#   for step, (x,y) in enumerate(train_batches):\n",
        "#     if (step+1) == step_per_epochs:\n",
        "#       break\n",
        "#     result = m.train(x, y)\n",
        "#     trainable_weights = m.get_trainable_weights()\n",
        "#     trainable_weights = [weight.numpy() for weight in trainable_weights]\n",
        "\n",
        "#     msg = m.update_weights(trainable_weights[0], trainable_weights[1])\n",
        "#   losses[i] = result['loss']\n",
        "#   if (i + 1) % 10 == 0:\n",
        "#     print(f\"Finished {i+1} epochs\")\n",
        "#     print(f\"  loss: {losses[i]:.3f}\")\n",
        "\n",
        "# # Save the trained weights to a checkpoint.\n",
        "# m.save('/tmp/model.ckpt')"
      ]
    },
    {
      "cell_type": "code",
      "source": [
        "m.get_trainable_weights()"
      ],
      "metadata": {
        "colab": {
          "base_uri": "https://localhost:8080/"
        },
        "id": "JFZyJSNffFjF",
        "outputId": "09417768-7799-42e9-b569-0c71e9b541d0"
      },
      "execution_count": 9,
      "outputs": [
        {
          "output_type": "execute_result",
          "data": {
            "text/plain": [
              "{'weights': <tf.Tensor: shape=(1280, 1), dtype=float32, numpy=\n",
              " array([[-0.01070463],\n",
              "        [-0.03723282],\n",
              "        [ 0.00034458],\n",
              "        ...,\n",
              "        [-0.0408719 ],\n",
              "        [ 0.03487955],\n",
              "        [ 0.06027184]], dtype=float32)>,\n",
              " 'bias': <tf.Tensor: shape=(1,), dtype=float32, numpy=array([0.], dtype=float32)>}"
            ]
          },
          "metadata": {},
          "execution_count": 9
        }
      ]
    },
    {
      "cell_type": "code",
      "execution_count": null,
      "metadata": {
        "colab": {
          "base_uri": "https://localhost:8080/",
          "height": 1000
        },
        "id": "g2XJtBSm56wc",
        "outputId": "db6f1eee-4cd1-4c08-b3e5-688ec7c967ef"
      },
      "outputs": [
        {
          "name": "stdout",
          "output_type": "stream",
          "text": [
            "Collecting tf-nightly\n",
            "  Downloading tf_nightly-2.15.0.dev20230810-cp310-cp310-manylinux_2_17_x86_64.manylinux2014_x86_64.whl (492.0 MB)\n",
            "\u001b[2K     \u001b[90m━━━━━━━━━━━━━━━━━━━━━━━━━━━━━━━━━━━━━━━\u001b[0m \u001b[32m492.0/492.0 MB\u001b[0m \u001b[31m1.8 MB/s\u001b[0m eta \u001b[36m0:00:00\u001b[0m\n",
            "\u001b[?25hRequirement already satisfied: absl-py>=1.0.0 in /usr/local/lib/python3.10/dist-packages (from tf-nightly) (1.4.0)\n",
            "Requirement already satisfied: astunparse>=1.6.0 in /usr/local/lib/python3.10/dist-packages (from tf-nightly) (1.6.3)\n",
            "Requirement already satisfied: flatbuffers>=23.5.26 in /usr/local/lib/python3.10/dist-packages (from tf-nightly) (23.5.26)\n",
            "Requirement already satisfied: gast!=0.5.0,!=0.5.1,!=0.5.2,>=0.2.1 in /usr/local/lib/python3.10/dist-packages (from tf-nightly) (0.4.0)\n",
            "Requirement already satisfied: google-pasta>=0.1.1 in /usr/local/lib/python3.10/dist-packages (from tf-nightly) (0.2.0)\n",
            "Requirement already satisfied: h5py>=2.9.0 in /usr/local/lib/python3.10/dist-packages (from tf-nightly) (3.8.0)\n",
            "Requirement already satisfied: libclang>=13.0.0 in /usr/local/lib/python3.10/dist-packages (from tf-nightly) (16.0.6)\n",
            "Requirement already satisfied: ml-dtypes>=0.2.0 in /usr/local/lib/python3.10/dist-packages (from tf-nightly) (0.2.0)\n",
            "Requirement already satisfied: numpy>=1.23.5 in /usr/local/lib/python3.10/dist-packages (from tf-nightly) (1.23.5)\n",
            "Requirement already satisfied: opt-einsum>=2.3.2 in /usr/local/lib/python3.10/dist-packages (from tf-nightly) (3.3.0)\n",
            "Requirement already satisfied: packaging in /usr/local/lib/python3.10/dist-packages (from tf-nightly) (23.1)\n",
            "Requirement already satisfied: protobuf!=4.21.0,!=4.21.1,!=4.21.2,!=4.21.3,!=4.21.4,!=4.21.5,<5.0.0dev,>=3.20.3 in /usr/local/lib/python3.10/dist-packages (from tf-nightly) (3.20.3)\n",
            "Requirement already satisfied: setuptools in /usr/local/lib/python3.10/dist-packages (from tf-nightly) (67.7.2)\n",
            "Requirement already satisfied: six>=1.12.0 in /usr/local/lib/python3.10/dist-packages (from tf-nightly) (1.16.0)\n",
            "Requirement already satisfied: termcolor>=1.1.0 in /usr/local/lib/python3.10/dist-packages (from tf-nightly) (2.3.0)\n",
            "Requirement already satisfied: typing-extensions>=3.6.6 in /usr/local/lib/python3.10/dist-packages (from tf-nightly) (4.7.1)\n",
            "Requirement already satisfied: wrapt<1.15,>=1.11.0 in /usr/local/lib/python3.10/dist-packages (from tf-nightly) (1.14.1)\n",
            "Requirement already satisfied: grpcio<2.0,>=1.24.3 in /usr/local/lib/python3.10/dist-packages (from tf-nightly) (1.56.2)\n",
            "Collecting tb-nightly~=2.14.0.a (from tf-nightly)\n",
            "  Downloading tb_nightly-2.14.0a20230808-py3-none-any.whl (5.5 MB)\n",
            "\u001b[2K     \u001b[90m━━━━━━━━━━━━━━━━━━━━━━━━━━━━━━━━━━━━━━━━\u001b[0m \u001b[32m5.5/5.5 MB\u001b[0m \u001b[31m79.3 MB/s\u001b[0m eta \u001b[36m0:00:00\u001b[0m\n",
            "\u001b[?25hCollecting tf-estimator-nightly~=2.14.0.dev (from tf-nightly)\n",
            "  Downloading tf_estimator_nightly-2.14.0.dev2023080308-py2.py3-none-any.whl (440 kB)\n",
            "\u001b[2K     \u001b[90m━━━━━━━━━━━━━━━━━━━━━━━━━━━━━━━━━━━━━━\u001b[0m \u001b[32m440.9/440.9 kB\u001b[0m \u001b[31m27.2 MB/s\u001b[0m eta \u001b[36m0:00:00\u001b[0m\n",
            "\u001b[?25hCollecting keras-nightly~=2.14.0.dev (from tf-nightly)\n",
            "  Downloading keras_nightly-2.14.0.dev2023080207-py3-none-any.whl (1.7 MB)\n",
            "\u001b[2K     \u001b[90m━━━━━━━━━━━━━━━━━━━━━━━━━━━━━━━━━━━━━━━━\u001b[0m \u001b[32m1.7/1.7 MB\u001b[0m \u001b[31m55.1 MB/s\u001b[0m eta \u001b[36m0:00:00\u001b[0m\n",
            "\u001b[?25hRequirement already satisfied: tensorflow-io-gcs-filesystem>=0.23.1 in /usr/local/lib/python3.10/dist-packages (from tf-nightly) (0.33.0)\n",
            "Requirement already satisfied: wheel<1.0,>=0.23.0 in /usr/local/lib/python3.10/dist-packages (from astunparse>=1.6.0->tf-nightly) (0.41.0)\n",
            "Requirement already satisfied: google-auth<3,>=1.6.3 in /usr/local/lib/python3.10/dist-packages (from tb-nightly~=2.14.0.a->tf-nightly) (2.17.3)\n",
            "Requirement already satisfied: google-auth-oauthlib<1.1,>=0.5 in /usr/local/lib/python3.10/dist-packages (from tb-nightly~=2.14.0.a->tf-nightly) (1.0.0)\n",
            "Requirement already satisfied: markdown>=2.6.8 in /usr/local/lib/python3.10/dist-packages (from tb-nightly~=2.14.0.a->tf-nightly) (3.4.4)\n",
            "Requirement already satisfied: requests<3,>=2.21.0 in /usr/local/lib/python3.10/dist-packages (from tb-nightly~=2.14.0.a->tf-nightly) (2.31.0)\n",
            "Requirement already satisfied: tensorboard-data-server<0.8.0,>=0.7.0 in /usr/local/lib/python3.10/dist-packages (from tb-nightly~=2.14.0.a->tf-nightly) (0.7.1)\n",
            "Requirement already satisfied: werkzeug>=1.0.1 in /usr/local/lib/python3.10/dist-packages (from tb-nightly~=2.14.0.a->tf-nightly) (2.3.6)\n",
            "Requirement already satisfied: cachetools<6.0,>=2.0.0 in /usr/local/lib/python3.10/dist-packages (from google-auth<3,>=1.6.3->tb-nightly~=2.14.0.a->tf-nightly) (5.3.1)\n",
            "Requirement already satisfied: pyasn1-modules>=0.2.1 in /usr/local/lib/python3.10/dist-packages (from google-auth<3,>=1.6.3->tb-nightly~=2.14.0.a->tf-nightly) (0.3.0)\n",
            "Requirement already satisfied: rsa<5,>=3.1.4 in /usr/local/lib/python3.10/dist-packages (from google-auth<3,>=1.6.3->tb-nightly~=2.14.0.a->tf-nightly) (4.9)\n",
            "Requirement already satisfied: requests-oauthlib>=0.7.0 in /usr/local/lib/python3.10/dist-packages (from google-auth-oauthlib<1.1,>=0.5->tb-nightly~=2.14.0.a->tf-nightly) (1.3.1)\n",
            "Requirement already satisfied: charset-normalizer<4,>=2 in /usr/local/lib/python3.10/dist-packages (from requests<3,>=2.21.0->tb-nightly~=2.14.0.a->tf-nightly) (3.2.0)\n",
            "Requirement already satisfied: idna<4,>=2.5 in /usr/local/lib/python3.10/dist-packages (from requests<3,>=2.21.0->tb-nightly~=2.14.0.a->tf-nightly) (3.4)\n",
            "Requirement already satisfied: urllib3<3,>=1.21.1 in /usr/local/lib/python3.10/dist-packages (from requests<3,>=2.21.0->tb-nightly~=2.14.0.a->tf-nightly) (1.26.16)\n",
            "Requirement already satisfied: certifi>=2017.4.17 in /usr/local/lib/python3.10/dist-packages (from requests<3,>=2.21.0->tb-nightly~=2.14.0.a->tf-nightly) (2023.7.22)\n",
            "Requirement already satisfied: MarkupSafe>=2.1.1 in /usr/local/lib/python3.10/dist-packages (from werkzeug>=1.0.1->tb-nightly~=2.14.0.a->tf-nightly) (2.1.3)\n",
            "Requirement already satisfied: pyasn1<0.6.0,>=0.4.6 in /usr/local/lib/python3.10/dist-packages (from pyasn1-modules>=0.2.1->google-auth<3,>=1.6.3->tb-nightly~=2.14.0.a->tf-nightly) (0.5.0)\n",
            "Requirement already satisfied: oauthlib>=3.0.0 in /usr/local/lib/python3.10/dist-packages (from requests-oauthlib>=0.7.0->google-auth-oauthlib<1.1,>=0.5->tb-nightly~=2.14.0.a->tf-nightly) (3.2.2)\n",
            "Installing collected packages: tf-estimator-nightly, keras-nightly, tb-nightly, tf-nightly\n",
            "Successfully installed keras-nightly-2.14.0.dev2023080207 tb-nightly-2.14.0a20230808 tf-estimator-nightly-2.14.0.dev2023080308 tf-nightly-2.15.0.dev20230810\n"
          ]
        },
        {
          "data": {
            "application/vnd.colab-display-data+json": {
              "pip_warning": {
                "packages": [
                  "keras",
                  "tensorboard",
                  "tensorflow"
                ]
              }
            }
          },
          "metadata": {},
          "output_type": "display_data"
        }
      ],
      "source": [
        "!pip install tf-nightly"
      ]
    },
    {
      "cell_type": "code",
      "execution_count": null,
      "metadata": {
        "colab": {
          "base_uri": "https://localhost:8080/",
          "height": 449
        },
        "id": "YDNMMXstf4NR",
        "outputId": "b7607576-4320-4259-bc2d-2eb94f562f27"
      },
      "outputs": [
        {
          "data": {
            "image/png": "[encoded data removed]",
            "text/plain": [
              "<Figure size 640x480 with 1 Axes>"
            ]
          },
          "metadata": {},
          "output_type": "display_data"
        }
      ],
      "source": [
        "plt.plot(epochs, losses, label='Pre-training')\n",
        "plt.ylim([0, max(plt.ylim())])\n",
        "plt.xlabel('Epoch')\n",
        "plt.ylabel('Loss [Cross Entropy]')\n",
        "plt.legend();"
      ]
    },
    {
      "cell_type": "code",
      "execution_count": null,
      "metadata": {
        "id": "5ztdDKjo7_sN"
      },
      "outputs": [],
      "source": []
    },
    {
      "cell_type": "code",
      "execution_count": null,
      "metadata": {
        "colab": {
          "base_uri": "https://localhost:8080/"
        },
        "id": "RGUxuiHvhL2P",
        "outputId": "f5f3f119-7e49-4f3a-fdb9-5f0063790163"
      },
      "outputs": [
        {
          "name": "stdout",
          "output_type": "stream",
          "text": [
            "Model: \"model\"\n",
            "_________________________________________________________________\n",
            " Layer (type)                Output Shape              Param #   \n",
            "=================================================================\n",
            " input_3 (InputLayer)        [(None, 160, 160, 3)]     0         \n",
            "                                                                 \n",
            " tf.math.truediv (TFOpLambda  (None, 160, 160, 3)      0         \n",
            " )                                                               \n",
            "                                                                 \n",
            " tf.math.subtract (TFOpLambd  (None, 160, 160, 3)      0         \n",
            " a)                                                              \n",
            "                                                                 \n",
            " normalization (Normalizatio  (None, 160, 160, 3)      0         \n",
            " n)                                                              \n",
            "                                                                 \n",
            " mobilenetv2_1.00_160 (Funct  (None, 5, 5, 1280)       2257984   \n",
            " ional)                                                          \n",
            "                                                                 \n",
            " global_average_pooling2d (G  (None, 1280)             0         \n",
            " lobalAveragePooling2D)                                          \n",
            "                                                                 \n",
            " dropout (Dropout)           (None, 1280)              0         \n",
            "                                                                 \n",
            " dense (Dense)               (None, 1)                 1281      \n",
            "                                                                 \n",
            "=================================================================\n",
            "Total params: 2,259,265\n",
            "Trainable params: 1,281\n",
            "Non-trainable params: 2,257,984\n",
            "_________________________________________________________________\n"
          ]
        },
        {
          "name": "stderr",
          "output_type": "stream",
          "text": [
            "WARNING:absl:Found untraced functions such as _update_step_xla, _jit_compiled_convolution_op, _jit_compiled_convolution_op, _jit_compiled_convolution_op, _jit_compiled_convolution_op while saving (showing 5 of 53). These functions will not be directly callable after loading.\n",
            "WARNING:absl:Importing a function (__inference_internal_grad_fn_45520) with ops with unsaved custom gradients. Will likely fail if a gradient is requested.\n",
            "WARNING:absl:Importing a function (__inference_internal_grad_fn_45504) with ops with unsaved custom gradients. Will likely fail if a gradient is requested.\n"
          ]
        }
      ],
      "source": [
        "SAVED_MODEL_DIR = saved_model_dir\n",
        "\n",
        "tf.saved_model.save(\n",
        "    m,\n",
        "    SAVED_MODEL_DIR,\n",
        "    signatures={\n",
        "        'train':\n",
        "            m.train.get_concrete_function(),\n",
        "        '0_infer':\n",
        "            m.infer.get_concrete_function(),\n",
        "        'save':\n",
        "            m.save.get_concrete_function(),\n",
        "        'restore':\n",
        "            m.restore.get_concrete_function(),\n",
        "        \"get_trainable_weights\":\n",
        "            m.get_trainable_weights.get_concrete_function(),\n",
        "        \"update_weights\":\n",
        "            m.update_weights.get_concrete_function(),\n",
        "    })\n",
        "\n",
        "# Convert the model\n",
        "converter = tf.lite.TFLiteConverter.from_saved_model(SAVED_MODEL_DIR)\n",
        "converter.target_spec.supported_ops = [\n",
        "    tf.lite.OpsSet.TFLITE_BUILTINS,  # enable TensorFlow Lite ops.\n",
        "    tf.lite.OpsSet.SELECT_TF_OPS  # enable TensorFlow ops.\n",
        "]\n",
        "converter.experimental_enable_resource_variables = True\n",
        "tflite_model = converter.convert()"
      ]
    },
    {
      "cell_type": "code",
      "execution_count": null,
      "metadata": {
        "colab": {
          "background_save": true
        },
        "id": "eyWdKiUthfIo"
      },
      "outputs": [],
      "source": [
        "interpreter = tf.lite.Interpreter(model_content=tflite_model)\n",
        "interpreter.allocate_tensors()\n",
        "\n",
        "infer = interpreter.get_signature_runner(\"infer\")"
      ]
    },
    {
      "cell_type": "code",
      "execution_count": null,
      "metadata": {
        "colab": {
          "base_uri": "https://localhost:8080/"
        },
        "id": "0V3d3ePL7G81",
        "outputId": "afa50e6a-cfa4-43bc-ab94-e408563d2e9c"
      },
      "outputs": [
        {
          "data": {
            "text/plain": [
              "{'get_trainable_weights': {'inputs': ['str'],\n",
              "  'outputs': ['output_0', 'output_1']},\n",
              " 'infer': {'inputs': ['x'], 'outputs': ['logits', 'output']},\n",
              " 'restore': {'inputs': ['checkpoint_path'],\n",
              "  'outputs': ['Conv1/kernel:0',\n",
              "   'Conv_1/kernel:0',\n",
              "   'Conv_1_bn/beta:0',\n",
              "   'Conv_1_bn/gamma:0',\n",
              "   'Conv_1_bn/moving_mean:0',\n",
              "   'Conv_1_bn/moving_variance:0',\n",
              "   'block_10_depthwise/depthwise_kernel:0',\n",
              "   'block_10_depthwise_BN/beta:0',\n",
              "   'block_10_depthwise_BN/gamma:0',\n",
              "   'block_10_depthwise_BN/moving_mean:0',\n",
              "   'block_10_depthwise_BN/moving_variance:0',\n",
              "   'block_10_expand/kernel:0',\n",
              "   'block_10_expand_BN/beta:0',\n",
              "   'block_10_expand_BN/gamma:0',\n",
              "   'block_10_expand_BN/moving_mean:0',\n",
              "   'block_10_expand_BN/moving_variance:0',\n",
              "   'block_10_project/kernel:0',\n",
              "   'block_10_project_BN/beta:0',\n",
              "   'block_10_project_BN/gamma:0',\n",
              "   'block_10_project_BN/moving_mean:0',\n",
              "   'block_10_project_BN/moving_variance:0',\n",
              "   'block_11_depthwise/depthwise_kernel:0',\n",
              "   'block_11_depthwise_BN/beta:0',\n",
              "   'block_11_depthwise_BN/gamma:0',\n",
              "   'block_11_depthwise_BN/moving_mean:0',\n",
              "   'block_11_depthwise_BN/moving_variance:0',\n",
              "   'block_11_expand/kernel:0',\n",
              "   'block_11_expand_BN/beta:0',\n",
              "   'block_11_expand_BN/gamma:0',\n",
              "   'block_11_expand_BN/moving_mean:0',\n",
              "   'block_11_expand_BN/moving_variance:0',\n",
              "   'block_11_project/kernel:0',\n",
              "   'block_11_project_BN/beta:0',\n",
              "   'block_11_project_BN/gamma:0',\n",
              "   'block_11_project_BN/moving_mean:0',\n",
              "   'block_11_project_BN/moving_variance:0',\n",
              "   'block_12_depthwise/depthwise_kernel:0',\n",
              "   'block_12_depthwise_BN/beta:0',\n",
              "   'block_12_depthwise_BN/gamma:0',\n",
              "   'block_12_depthwise_BN/moving_mean:0',\n",
              "   'block_12_depthwise_BN/moving_variance:0',\n",
              "   'block_12_expand/kernel:0',\n",
              "   'block_12_expand_BN/beta:0',\n",
              "   'block_12_expand_BN/gamma:0',\n",
              "   'block_12_expand_BN/moving_mean:0',\n",
              "   'block_12_expand_BN/moving_variance:0',\n",
              "   'block_12_project/kernel:0',\n",
              "   'block_12_project_BN/beta:0',\n",
              "   'block_12_project_BN/gamma:0',\n",
              "   'block_12_project_BN/moving_mean:0',\n",
              "   'block_12_project_BN/moving_variance:0',\n",
              "   'block_13_depthwise/depthwise_kernel:0',\n",
              "   'block_13_depthwise_BN/beta:0',\n",
              "   'block_13_depthwise_BN/gamma:0',\n",
              "   'block_13_depthwise_BN/moving_mean:0',\n",
              "   'block_13_depthwise_BN/moving_variance:0',\n",
              "   'block_13_expand/kernel:0',\n",
              "   'block_13_expand_BN/beta:0',\n",
              "   'block_13_expand_BN/gamma:0',\n",
              "   'block_13_expand_BN/moving_mean:0',\n",
              "   'block_13_expand_BN/moving_variance:0',\n",
              "   'block_13_project/kernel:0',\n",
              "   'block_13_project_BN/beta:0',\n",
              "   'block_13_project_BN/gamma:0',\n",
              "   'block_13_project_BN/moving_mean:0',\n",
              "   'block_13_project_BN/moving_variance:0',\n",
              "   'block_14_depthwise/depthwise_kernel:0',\n",
              "   'block_14_depthwise_BN/beta:0',\n",
              "   'block_14_depthwise_BN/gamma:0',\n",
              "   'block_14_depthwise_BN/moving_mean:0',\n",
              "   'block_14_depthwise_BN/moving_variance:0',\n",
              "   'block_14_expand/kernel:0',\n",
              "   'block_14_expand_BN/beta:0',\n",
              "   'block_14_expand_BN/gamma:0',\n",
              "   'block_14_expand_BN/moving_mean:0',\n",
              "   'block_14_expand_BN/moving_variance:0',\n",
              "   'block_14_project/kernel:0',\n",
              "   'block_14_project_BN/beta:0',\n",
              "   'block_14_project_BN/gamma:0',\n",
              "   'block_14_project_BN/moving_mean:0',\n",
              "   'block_14_project_BN/moving_variance:0',\n",
              "   'block_15_depthwise/depthwise_kernel:0',\n",
              "   'block_15_depthwise_BN/beta:0',\n",
              "   'block_15_depthwise_BN/gamma:0',\n",
              "   'block_15_depthwise_BN/moving_mean:0',\n",
              "   'block_15_depthwise_BN/moving_variance:0',\n",
              "   'block_15_expand/kernel:0',\n",
              "   'block_15_expand_BN/beta:0',\n",
              "   'block_15_expand_BN/gamma:0',\n",
              "   'block_15_expand_BN/moving_mean:0',\n",
              "   'block_15_expand_BN/moving_variance:0',\n",
              "   'block_15_project/kernel:0',\n",
              "   'block_15_project_BN/beta:0',\n",
              "   'block_15_project_BN/gamma:0',\n",
              "   'block_15_project_BN/moving_mean:0',\n",
              "   'block_15_project_BN/moving_variance:0',\n",
              "   'block_16_depthwise/depthwise_kernel:0',\n",
              "   'block_16_depthwise_BN/beta:0',\n",
              "   'block_16_depthwise_BN/gamma:0',\n",
              "   'block_16_depthwise_BN/moving_mean:0',\n",
              "   'block_16_depthwise_BN/moving_variance:0',\n",
              "   'block_16_expand/kernel:0',\n",
              "   'block_16_expand_BN/beta:0',\n",
              "   'block_16_expand_BN/gamma:0',\n",
              "   'block_16_expand_BN/moving_mean:0',\n",
              "   'block_16_expand_BN/moving_variance:0',\n",
              "   'block_16_project/kernel:0',\n",
              "   'block_16_project_BN/beta:0',\n",
              "   'block_16_project_BN/gamma:0',\n",
              "   'block_16_project_BN/moving_mean:0',\n",
              "   'block_16_project_BN/moving_variance:0',\n",
              "   'block_1_depthwise/depthwise_kernel:0',\n",
              "   'block_1_depthwise_BN/beta:0',\n",
              "   'block_1_depthwise_BN/gamma:0',\n",
              "   'block_1_depthwise_BN/moving_mean:0',\n",
              "   'block_1_depthwise_BN/moving_variance:0',\n",
              "   'block_1_expand/kernel:0',\n",
              "   'block_1_expand_BN/beta:0',\n",
              "   'block_1_expand_BN/gamma:0',\n",
              "   'block_1_expand_BN/moving_mean:0',\n",
              "   'block_1_expand_BN/moving_variance:0',\n",
              "   'block_1_project/kernel:0',\n",
              "   'block_1_project_BN/beta:0',\n",
              "   'block_1_project_BN/gamma:0',\n",
              "   'block_1_project_BN/moving_mean:0',\n",
              "   'block_1_project_BN/moving_variance:0',\n",
              "   'block_2_depthwise/depthwise_kernel:0',\n",
              "   'block_2_depthwise_BN/beta:0',\n",
              "   'block_2_depthwise_BN/gamma:0',\n",
              "   'block_2_depthwise_BN/moving_mean:0',\n",
              "   'block_2_depthwise_BN/moving_variance:0',\n",
              "   'block_2_expand/kernel:0',\n",
              "   'block_2_expand_BN/beta:0',\n",
              "   'block_2_expand_BN/gamma:0',\n",
              "   'block_2_expand_BN/moving_mean:0',\n",
              "   'block_2_expand_BN/moving_variance:0',\n",
              "   'block_2_project/kernel:0',\n",
              "   'block_2_project_BN/beta:0',\n",
              "   'block_2_project_BN/gamma:0',\n",
              "   'block_2_project_BN/moving_mean:0',\n",
              "   'block_2_project_BN/moving_variance:0',\n",
              "   'block_3_depthwise/depthwise_kernel:0',\n",
              "   'block_3_depthwise_BN/beta:0',\n",
              "   'block_3_depthwise_BN/gamma:0',\n",
              "   'block_3_depthwise_BN/moving_mean:0',\n",
              "   'block_3_depthwise_BN/moving_variance:0',\n",
              "   'block_3_expand/kernel:0',\n",
              "   'block_3_expand_BN/beta:0',\n",
              "   'block_3_expand_BN/gamma:0',\n",
              "   'block_3_expand_BN/moving_mean:0',\n",
              "   'block_3_expand_BN/moving_variance:0',\n",
              "   'block_3_project/kernel:0',\n",
              "   'block_3_project_BN/beta:0',\n",
              "   'block_3_project_BN/gamma:0',\n",
              "   'block_3_project_BN/moving_mean:0',\n",
              "   'block_3_project_BN/moving_variance:0',\n",
              "   'block_4_depthwise/depthwise_kernel:0',\n",
              "   'block_4_depthwise_BN/beta:0',\n",
              "   'block_4_depthwise_BN/gamma:0',\n",
              "   'block_4_depthwise_BN/moving_mean:0',\n",
              "   'block_4_depthwise_BN/moving_variance:0',\n",
              "   'block_4_expand/kernel:0',\n",
              "   'block_4_expand_BN/beta:0',\n",
              "   'block_4_expand_BN/gamma:0',\n",
              "   'block_4_expand_BN/moving_mean:0',\n",
              "   'block_4_expand_BN/moving_variance:0',\n",
              "   'block_4_project/kernel:0',\n",
              "   'block_4_project_BN/beta:0',\n",
              "   'block_4_project_BN/gamma:0',\n",
              "   'block_4_project_BN/moving_mean:0',\n",
              "   'block_4_project_BN/moving_variance:0',\n",
              "   'block_5_depthwise/depthwise_kernel:0',\n",
              "   'block_5_depthwise_BN/beta:0',\n",
              "   'block_5_depthwise_BN/gamma:0',\n",
              "   'block_5_depthwise_BN/moving_mean:0',\n",
              "   'block_5_depthwise_BN/moving_variance:0',\n",
              "   'block_5_expand/kernel:0',\n",
              "   'block_5_expand_BN/beta:0',\n",
              "   'block_5_expand_BN/gamma:0',\n",
              "   'block_5_expand_BN/moving_mean:0',\n",
              "   'block_5_expand_BN/moving_variance:0',\n",
              "   'block_5_project/kernel:0',\n",
              "   'block_5_project_BN/beta:0',\n",
              "   'block_5_project_BN/gamma:0',\n",
              "   'block_5_project_BN/moving_mean:0',\n",
              "   'block_5_project_BN/moving_variance:0',\n",
              "   'block_6_depthwise/depthwise_kernel:0',\n",
              "   'block_6_depthwise_BN/beta:0',\n",
              "   'block_6_depthwise_BN/gamma:0',\n",
              "   'block_6_depthwise_BN/moving_mean:0',\n",
              "   'block_6_depthwise_BN/moving_variance:0',\n",
              "   'block_6_expand/kernel:0',\n",
              "   'block_6_expand_BN/beta:0',\n",
              "   'block_6_expand_BN/gamma:0',\n",
              "   'block_6_expand_BN/moving_mean:0',\n",
              "   'block_6_expand_BN/moving_variance:0',\n",
              "   'block_6_project/kernel:0',\n",
              "   'block_6_project_BN/beta:0',\n",
              "   'block_6_project_BN/gamma:0',\n",
              "   'block_6_project_BN/moving_mean:0',\n",
              "   'block_6_project_BN/moving_variance:0',\n",
              "   'block_7_depthwise/depthwise_kernel:0',\n",
              "   'block_7_depthwise_BN/beta:0',\n",
              "   'block_7_depthwise_BN/gamma:0',\n",
              "   'block_7_depthwise_BN/moving_mean:0',\n",
              "   'block_7_depthwise_BN/moving_variance:0',\n",
              "   'block_7_expand/kernel:0',\n",
              "   'block_7_expand_BN/beta:0',\n",
              "   'block_7_expand_BN/gamma:0',\n",
              "   'block_7_expand_BN/moving_mean:0',\n",
              "   'block_7_expand_BN/moving_variance:0',\n",
              "   'block_7_project/kernel:0',\n",
              "   'block_7_project_BN/beta:0',\n",
              "   'block_7_project_BN/gamma:0',\n",
              "   'block_7_project_BN/moving_mean:0',\n",
              "   'block_7_project_BN/moving_variance:0',\n",
              "   'block_8_depthwise/depthwise_kernel:0',\n",
              "   'block_8_depthwise_BN/beta:0',\n",
              "   'block_8_depthwise_BN/gamma:0',\n",
              "   'block_8_depthwise_BN/moving_mean:0',\n",
              "   'block_8_depthwise_BN/moving_variance:0',\n",
              "   'block_8_expand/kernel:0',\n",
              "   'block_8_expand_BN/beta:0',\n",
              "   'block_8_expand_BN/gamma:0',\n",
              "   'block_8_expand_BN/moving_mean:0',\n",
              "   'block_8_expand_BN/moving_variance:0',\n",
              "   'block_8_project/kernel:0',\n",
              "   'block_8_project_BN/beta:0',\n",
              "   'block_8_project_BN/gamma:0',\n",
              "   'block_8_project_BN/moving_mean:0',\n",
              "   'block_8_project_BN/moving_variance:0',\n",
              "   'block_9_depthwise/depthwise_kernel:0',\n",
              "   'block_9_depthwise_BN/beta:0',\n",
              "   'block_9_depthwise_BN/gamma:0',\n",
              "   'block_9_depthwise_BN/moving_mean:0',\n",
              "   'block_9_depthwise_BN/moving_variance:0',\n",
              "   'block_9_expand/kernel:0',\n",
              "   'block_9_expand_BN/beta:0',\n",
              "   'block_9_expand_BN/gamma:0',\n",
              "   'block_9_expand_BN/moving_mean:0',\n",
              "   'block_9_expand_BN/moving_variance:0',\n",
              "   'block_9_project/kernel:0',\n",
              "   'block_9_project_BN/beta:0',\n",
              "   'block_9_project_BN/gamma:0',\n",
              "   'block_9_project_BN/moving_mean:0',\n",
              "   'block_9_project_BN/moving_variance:0',\n",
              "   'bn_Conv1/beta:0',\n",
              "   'bn_Conv1/gamma:0',\n",
              "   'bn_Conv1/moving_mean:0',\n",
              "   'bn_Conv1/moving_variance:0',\n",
              "   'dense/bias:0',\n",
              "   'dense/kernel:0',\n",
              "   'expanded_conv_depthwise/depthwise_kernel:0',\n",
              "   'expanded_conv_depthwise_BN/beta:0',\n",
              "   'expanded_conv_depthwise_BN/gamma:0',\n",
              "   'expanded_conv_depthwise_BN/moving_mean:0',\n",
              "   'expanded_conv_depthwise_BN/moving_variance:0',\n",
              "   'expanded_conv_project/kernel:0',\n",
              "   'expanded_conv_project_BN/beta:0',\n",
              "   'expanded_conv_project_BN/gamma:0',\n",
              "   'expanded_conv_project_BN/moving_mean:0',\n",
              "   'expanded_conv_project_BN/moving_variance:0']},\n",
              " 'save': {'inputs': ['checkpoint_path'], 'outputs': ['checkpoint_path']},\n",
              " 'train': {'inputs': ['x', 'y'], 'outputs': ['loss']},\n",
              " 'update_weights': {'inputs': ['b', 'w'], 'outputs': ['message']}}"
            ]
          },
          "execution_count": 17,
          "metadata": {},
          "output_type": "execute_result"
        }
      ],
      "source": [
        "interpreter.get_signature_list()"
      ]
    },
    {
      "cell_type": "code",
      "execution_count": null,
      "metadata": {
        "colab": {
          "base_uri": "https://localhost:8080/"
        },
        "id": "wX-Clh755iqI",
        "outputId": "12a39629-3db7-4238-bdb1-5dbf244f41d4"
      },
      "outputs": [
        {
          "name": "stdout",
          "output_type": "stream",
          "text": [
            "input details [{'name': 'get_trainable_weights_str:0', 'index': 0, 'shape': array([], dtype=int32), 'shape_signature': array([], dtype=int32), 'dtype': <class 'numpy.bytes_'>, 'quantization': (0.0, 0), 'quantization_parameters': {'scales': array([], dtype=float32), 'zero_points': array([], dtype=int32), 'quantized_dimension': 0}, 'sparsity_parameters': {}}]\n",
            "ouput details [{'name': 'StatefulPartitionedCall:1', 'index': 3, 'shape': array([1], dtype=int32), 'shape_signature': array([1], dtype=int32), 'dtype': <class 'numpy.float32'>, 'quantization': (0.0, 0), 'quantization_parameters': {'scales': array([], dtype=float32), 'zero_points': array([], dtype=int32), 'quantized_dimension': 0}, 'sparsity_parameters': {}}, {'name': 'StatefulPartitionedCall:0', 'index': 4, 'shape': array([1280,    1], dtype=int32), 'shape_signature': array([1280,    1], dtype=int32), 'dtype': <class 'numpy.float32'>, 'quantization': (0.0, 0), 'quantization_parameters': {'scales': array([], dtype=float32), 'zero_points': array([], dtype=int32), 'quantized_dimension': 0}, 'sparsity_parameters': {}}]\n"
          ]
        }
      ],
      "source": [
        "\n",
        "input_details = interpreter.get_input_details()\n",
        "output_details = interpreter.get_output_details()\n",
        "\n",
        "print(\"input details\", input_details)\n",
        "print(\"ouput details\", output_details)"
      ]
    },
    {
      "cell_type": "code",
      "execution_count": null,
      "metadata": {
        "colab": {
          "base_uri": "https://localhost:8080/"
        },
        "id": "_JK7EDOqhp_4",
        "outputId": "d3892034-dcff-4c23-c79f-8ea79cc5d065"
      },
      "outputs": [
        {
          "data": {
            "text/plain": [
              "(4, 160, 160, 3)"
            ]
          },
          "execution_count": 12,
          "metadata": {},
          "output_type": "execute_result"
        }
      ],
      "source": [
        "train_batches[0][0].shape"
      ]
    },
    {
      "cell_type": "code",
      "execution_count": null,
      "metadata": {
        "id": "T3J1EwWghiKQ"
      },
      "outputs": [],
      "source": [
        "logits_original = m.infer(x=train_batches[0][0][:1])['logits'][0]\n",
        "logits_lite = infer(x=train_batches[0][0][:1])['logits'][0]"
      ]
    },
    {
      "cell_type": "code",
      "execution_count": null,
      "metadata": {
        "colab": {
          "base_uri": "https://localhost:8080/"
        },
        "id": "Pm4MOnyRjOAJ",
        "outputId": "51afbf90-b687-4c19-a761-bde61e7019a8"
      },
      "outputs": [
        {
          "data": {
            "text/plain": [
              "<tf.Tensor: shape=(1,), dtype=float32, numpy=array([-0.9909582], dtype=float32)>"
            ]
          },
          "execution_count": 14,
          "metadata": {},
          "output_type": "execute_result"
        }
      ],
      "source": [
        "logits_original"
      ]
    },
    {
      "cell_type": "code",
      "execution_count": null,
      "metadata": {
        "colab": {
          "base_uri": "https://localhost:8080/",
          "height": 489
        },
        "id": "QepvP1oLiBiY",
        "outputId": "52558397-f49d-4ed3-a192-9cd11f39e753"
      },
      "outputs": [
        {
          "name": "stdout",
          "output_type": "stream",
          "text": [
            "[0.]\n"
          ]
        },
        {
          "data": {
            "image/png": "[encoded data removed]",
            "text/plain": [
              "<Figure size 640x480 with 1 Axes>"
            ]
          },
          "metadata": {},
          "output_type": "display_data"
        }
      ],
      "source": [
        "#@title\n",
        "def compare_logits(logits):\n",
        "  width = 0.35\n",
        "  offset = width/2\n",
        "  assert len(logits)==2\n",
        "\n",
        "  keys = list(logits.keys())\n",
        "  print(np.arange(len(logits[keys[0]]) - offset))\n",
        "  plt.bar(x = np.arange(len(logits[keys[0]]))-offset,\n",
        "      height=logits[keys[0]], width=0.35, label=keys[0])\n",
        "  plt.bar(x = np.arange(len(logits[keys[1]]))+offset,\n",
        "      height=logits[keys[1]], width=0.35, label=keys[1])\n",
        "  plt.legend()\n",
        "  plt.grid(True)\n",
        "  plt.ylabel('Logit')\n",
        "  plt.xlabel('ClassID')\n",
        "\n",
        "  delta = np.sum(np.abs(logits[keys[0]] - logits[keys[1]]))\n",
        "  plt.title(f\"Total difference: {delta:.3g}\")\n",
        "\n",
        "compare_logits({'Original': logits_original, 'Lite': logits_lite})"
      ]
    },
    {
      "cell_type": "code",
      "execution_count": null,
      "metadata": {
        "id": "kazIndhEbiR-"
      },
      "outputs": [],
      "source": [
        "import os"
      ]
    },
    {
      "cell_type": "code",
      "execution_count": null,
      "metadata": {
        "id": "jgz0rGHqbeV4"
      },
      "outputs": [],
      "source": [
        "converter = tf.lite.TFLiteConverter.from_saved_model(saved_model_dir)\n",
        "converter.target_spec.supported_ops = [\n",
        "    tf.lite.OpsSet.TFLITE_BUILTINS,  # enable TensorFlow Lite ops.\n",
        "    tf.lite.OpsSet.SELECT_TF_OPS  # enable TensorFlow ops.\n",
        "]\n",
        "converter.experimental_enable_resource_variables = True\n",
        "tflite_model = converter.convert()\n",
        "\n",
        "model_file_path = os.path.join('model.tflite')\n",
        "with open(model_file_path, 'wb') as model_file:\n",
        "  model_file.write(tflite_model)"
      ]
    }
  ],
  "metadata": {
    "accelerator": "GPU",
    "colab": {
      "provenance": []
    },
    "kernelspec": {
      "display_name": "Python 3",
      "name": "python3"
    },
    "language_info": {
      "name": "python"
    }
  },
  "nbformat": 4,
  "nbformat_minor": 0
}