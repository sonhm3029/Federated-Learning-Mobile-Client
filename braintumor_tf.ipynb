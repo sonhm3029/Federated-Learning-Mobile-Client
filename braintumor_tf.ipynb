{
  "cells": [
    {
      "cell_type": "code",
      "execution_count": null,
      "metadata": {
        "id": "WpgHgl2wJAai"
      },
      "outputs": [],
      "source": [
        "DATASET = \"/content/drive/MyDrive/ml_isofh/data/brain_tumor_2_8\"\n",
        "saved_model_dir = \"/content/drive/MyDrive/saved_model\""
      ]
    },
    {
      "cell_type": "code",
      "execution_count": null,
      "metadata": {
        "id": "Quwfbr-0LvB4"
      },
      "outputs": [],
      "source": [
        "from tensorflow import keras\n",
        "import tensorflow as tf\n",
        "from tensorflow.keras.preprocessing.image import ImageDataGenerator\n",
        "\n",
        "import numpy as np\n",
        "import cv2\n",
        "import imutils\n",
        "import matplotlib.pyplot as plt"
      ]
    },
    {
      "cell_type": "code",
      "execution_count": null,
      "metadata": {
        "id": "t2YFZ-WaJ3Gd"
      },
      "outputs": [],
      "source": [
        "\n",
        "\n",
        "IMG_SIZE = (160, 160)\n",
        "IMG_SHAPE = (160, 160, 3)\n",
        "MEAN = [0.23740229, 0.23729787, 0.23700129]\n",
        "STD = [0.23173477, 0.23151317, 0.23122775]\n",
        "\n",
        "preprocess_input = keras.applications.mobilenet_v2.preprocess_input\n",
        "\n",
        "inputs = keras.Input(shape=IMG_SIZE)\n",
        "base_model = keras.applications.MobileNetV2(\n",
        "    input_shape=IMG_SHAPE,\n",
        "    include_top=False\n",
        ")\n",
        "\n",
        "base_model.trainable = False\n",
        "global_average_layer = keras.layers.GlobalAveragePooling2D()\n",
        "prediction_layer = keras.layers.Dense(1)\n",
        "\n",
        "class ImagePreprocessLayer(tf.keras.layers.Layer):\n",
        "    def __init__(self):\n",
        "      super(ImagePreprocessLayer, self).__init__()\n",
        "    def call(self, img):\n",
        "      print(img)\n",
        "      img = tf.convert_to_tensor(img)\n",
        "      gray = cv2.cvtColor(img, cv2.COLOR_RGB2GRAY)\n",
        "      gray = cv2.GaussianBlur(gray, (5, 5), 0)\n",
        "      # threshold the image, then perform a series of erosions +\n",
        "      # dilations to remove any small regions of noise\n",
        "      thresh = cv2.threshold(gray, 60, 255, cv2.THRESH_BINARY)[1]\n",
        "      thresh = cv2.erode(thresh, None, iterations=2)\n",
        "      thresh = cv2.dilate(thresh, None, iterations=2)\n",
        "      # find contours in thresholded image, then grab the largest one\n",
        "      cnts = cv2.findContours(thresh.copy(), cv2.RETR_EXTERNAL, cv2.CHAIN_APPROX_SIMPLE)\n",
        "      cnts = imutils.grab_contours(cnts)\n",
        "      c = max(cnts, key=cv2.contourArea)\n",
        "      # find the extreme points\n",
        "      extLeft = tuple(c[c[:, :, 0].argmin()][0])\n",
        "      extRight = tuple(c[c[:, :, 0].argmax()][0])\n",
        "      extTop = tuple(c[c[:, :, 1].argmin()][0])\n",
        "      extBot = tuple(c[c[:, :, 1].argmax()][0])\n",
        "      ADD_PIXELS = 0\n",
        "      new_img = img[extTop[1]-ADD_PIXELS:extBot[1]+ADD_PIXELS, extLeft[0]-ADD_PIXELS:extRight[0]+ADD_PIXELS].copy()\n",
        "      return tf.convert_to_tensor(new_img)\n",
        "\n",
        "\n",
        "def img_enhanced(img):\n",
        "  print(type(img))\n",
        "  img = img.numpy()\n",
        "  print(img, \"OK\")\n",
        "\n",
        "  gray = cv2.cvtColor(img, cv2.COLOR_RGB2GRAY)\n",
        "  gray = cv2.GaussianBlur(gray, (5, 5), 0)\n",
        "  # threshold the image, then perform a series of erosions +\n",
        "  # dilations to remove any small regions of noise\n",
        "  thresh = cv2.threshold(gray, 60, 255, cv2.THRESH_BINARY)[1]\n",
        "  thresh = cv2.erode(thresh, None, iterations=2)\n",
        "  thresh = cv2.dilate(thresh, None, iterations=2)\n",
        "  # find contours in thresholded image, then grab the largest one\n",
        "  cnts = cv2.findContours(thresh.copy(), cv2.RETR_EXTERNAL, cv2.CHAIN_APPROX_SIMPLE)\n",
        "  cnts = imutils.grab_contours(cnts)\n",
        "  c = max(cnts, key=cv2.contourArea)\n",
        "  # find the extreme points\n",
        "  extLeft = tuple(c[c[:, :, 0].argmin()][0])\n",
        "  extRight = tuple(c[c[:, :, 0].argmax()][0])\n",
        "  extTop = tuple(c[c[:, :, 1].argmin()][0])\n",
        "  extBot = tuple(c[c[:, :, 1].argmax()][0])\n",
        "  ADD_PIXELS = add_pixels_value\n",
        "  new_img = img[extTop[1]-ADD_PIXELS:extBot[1]+ADD_PIXELS, extLeft[0]-ADD_PIXELS:extRight[0]+ADD_PIXELS].copy()\n",
        "  return new_img\n",
        "\n",
        "inputs = keras.Input(shape=IMG_SHAPE)\n",
        "x = preprocess_input(inputs)\n",
        "x = keras.layers.Normalization(mean=MEAN, variance=STD)(x)\n",
        "x = base_model(x, training=False)\n",
        "x = global_average_layer(x)\n",
        "x = keras.layers.Dropout(0.2)(x)\n",
        "outputs = prediction_layer(x)\n",
        "model = keras.Model(inputs, outputs)\n",
        "\n",
        "\n",
        "class Model(tf.Module):\n",
        "    def __init__(self):\n",
        "        self.model = model\n",
        "        self.model.compile(optimizer=tf.keras.optimizers.Adam(), loss=keras.losses.BinaryCrossentropy(from_logits=True))\n",
        "\n",
        "    @tf.function(input_signature=[\n",
        "        tf.TensorSpec([None, 160, 160, 3], tf.float32),\n",
        "        tf.TensorSpec([None, ], tf.float32),\n",
        "    ])\n",
        "    def train(self, x, y):\n",
        "      with tf.GradientTape() as tape:\n",
        "          pred = self.model(x)\n",
        "          loss = self.model.loss(y, pred)\n",
        "\n",
        "      gradients = tape.gradient(loss, self.model.trainable_variables)\n",
        "      self.model.optimizer.apply_gradients(\n",
        "          zip(gradients, self.model.trainable_variables))\n",
        "      result = {\"loss\": loss}\n",
        "      return result\n",
        "\n",
        "    @tf.function(input_signature=[\n",
        "        tf.TensorSpec([None, 160, 160, 3], tf.float32)\n",
        "    ])\n",
        "    def infer(self, x):\n",
        "        logits = self.model(x)\n",
        "        probabilities = tf.nn.sigmoid(x)\n",
        "        return {\n",
        "            \"output\": probabilities,\n",
        "            \"logits\": logits\n",
        "        }\n",
        "\n",
        "    @tf.function(input_signature=[tf.TensorSpec(shape=[], dtype=tf.string)])\n",
        "    def save(self, checkpoint_path):\n",
        "        tensor_names = [weight.name for weight in self.model.weights]\n",
        "        tensors_to_save = [weight.read_value() for weight in self.model.weights]\n",
        "        tf.raw_ops.Save(\n",
        "            filename=checkpoint_path, tensor_names=tensor_names,\n",
        "            data=tensors_to_save, name='save')\n",
        "        return {\n",
        "            \"checkpoint_path\": checkpoint_path\n",
        "        }\n",
        "\n",
        "    @tf.function(input_signature=[tf.TensorSpec(shape=[], dtype=tf.string)])\n",
        "    def restore(self, checkpoint_path):\n",
        "        restored_tensors = {}\n",
        "        for var in self.model.weights:\n",
        "            restored = tf.raw_ops.Restore(\n",
        "                file_pattern=checkpoint_path, tensor_name=var.name, dt=var.dtype,\n",
        "                name='restore')\n",
        "            var.assign(restored)\n",
        "            restored_tensors[var.name] = restored\n",
        "        return restored_tensors\n",
        "\n",
        "    # @tf.function()\n"
      ]
    },
    {
      "cell_type": "code",
      "execution_count": null,
      "metadata": {
        "id": "WQu1svO_MkZD"
      },
      "outputs": [],
      "source": [
        "classes = [\"NO\", \"YES\"]"
      ]
    },
    {
      "cell_type": "code",
      "execution_count": null,
      "metadata": {
        "colab": {
          "base_uri": "https://localhost:8080/"
        },
        "id": "pvRffkEkKPoa",
        "outputId": "8454f396-b9fc-4ff0-e928-6196554e152e"
      },
      "outputs": [
        {
          "output_type": "stream",
          "name": "stdout",
          "text": [
            "Found 202 images belonging to 2 classes.\n",
            "Found 51 images belonging to 2 classes.\n"
          ]
        }
      ],
      "source": [
        "train_gen = ImageDataGenerator(\n",
        "    rotation_range=15,\n",
        "    width_shift_range=0.05,\n",
        "    height_shift_range=0.05,\n",
        "    rescale=1./255,\n",
        "    shear_range=0.05,\n",
        "    brightness_range=[0.1, 1.5],\n",
        "    horizontal_flip=True,\n",
        "    vertical_flip=True\n",
        "\n",
        ")\n",
        "test_gen = ImageDataGenerator(\n",
        "    rescale=1./255\n",
        ")\n",
        "\n",
        "train_batches = train_gen.flow_from_directory(\n",
        "    DATASET + \"/TRAIN\",\n",
        "    target_size=(160, 160),\n",
        "    class_mode='binary',\n",
        "    batch_size=4,\n",
        "    shuffle=True,\n",
        "    color_mode=\"rgb\",\n",
        "    classes=classes\n",
        ")\n",
        "\n",
        "test_batches = test_gen.flow_from_directory(\n",
        "    DATASET + \"/TEST\",\n",
        "    target_size=(160, 160),\n",
        "    class_mode='binary',\n",
        "    batch_size=4,\n",
        "    shuffle=False,\n",
        "    color_mode=\"rgb\",\n",
        "    classes=classes\n",
        ")"
      ]
    },
    {
      "cell_type": "code",
      "source": [
        "len(train_batches)"
      ],
      "metadata": {
        "colab": {
          "base_uri": "https://localhost:8080/"
        },
        "id": "rMhqYIrkYa0q",
        "outputId": "7a9a00a8-118e-4a68-be7a-bff09030dfdf"
      },
      "execution_count": null,
      "outputs": [
        {
          "output_type": "execute_result",
          "data": {
            "text/plain": [
              "51"
            ]
          },
          "metadata": {},
          "execution_count": 29
        }
      ]
    },
    {
      "cell_type": "code",
      "execution_count": null,
      "metadata": {
        "colab": {
          "base_uri": "https://localhost:8080/"
        },
        "id": "D3kbq90bM7sY",
        "outputId": "7799944d-449f-4d41-f735-ac5bc858b25e"
      },
      "outputs": [
        {
          "output_type": "stream",
          "name": "stdout",
          "text": [
            "Training epoch 1/100\n",
            "Training epoch 2/100\n",
            "Training epoch 3/100\n",
            "Training epoch 4/100\n",
            "Training epoch 5/100\n",
            "Training epoch 6/100\n",
            "Training epoch 7/100\n",
            "Training epoch 8/100\n",
            "Training epoch 9/100\n",
            "Training epoch 10/100\n",
            "Finished 10 epochs\n",
            "  loss: 0.736\n",
            "Training epoch 11/100\n",
            "Training epoch 12/100\n",
            "Training epoch 13/100\n",
            "Training epoch 14/100\n",
            "Training epoch 15/100\n",
            "Training epoch 16/100\n",
            "Training epoch 17/100\n",
            "Training epoch 18/100\n",
            "Training epoch 19/100\n",
            "Training epoch 20/100\n",
            "Finished 20 epochs\n",
            "  loss: 0.700\n",
            "Training epoch 21/100\n",
            "Training epoch 22/100\n",
            "Training epoch 23/100\n",
            "Training epoch 24/100\n",
            "Training epoch 25/100\n",
            "Training epoch 26/100\n",
            "Training epoch 27/100\n",
            "Training epoch 28/100\n",
            "Training epoch 29/100\n",
            "Training epoch 30/100\n",
            "Finished 30 epochs\n",
            "  loss: 0.701\n",
            "Training epoch 31/100\n",
            "Training epoch 32/100\n",
            "Training epoch 33/100\n",
            "Training epoch 34/100\n",
            "Training epoch 35/100\n",
            "Training epoch 36/100\n",
            "Training epoch 37/100\n",
            "Training epoch 38/100\n",
            "Training epoch 39/100\n",
            "Training epoch 40/100\n",
            "Finished 40 epochs\n",
            "  loss: 0.758\n",
            "Training epoch 41/100\n",
            "Training epoch 42/100\n",
            "Training epoch 43/100\n",
            "Training epoch 44/100\n",
            "Training epoch 45/100\n",
            "Training epoch 46/100\n",
            "Training epoch 47/100\n",
            "Training epoch 48/100\n",
            "Training epoch 49/100\n",
            "Training epoch 50/100\n",
            "Finished 50 epochs\n",
            "  loss: 0.709\n",
            "Training epoch 51/100\n",
            "Training epoch 52/100\n",
            "Training epoch 53/100\n",
            "Training epoch 54/100\n",
            "Training epoch 55/100\n",
            "Training epoch 56/100\n",
            "Training epoch 57/100\n",
            "Training epoch 58/100\n",
            "Training epoch 59/100\n",
            "Training epoch 60/100\n",
            "Finished 60 epochs\n",
            "  loss: 0.555\n",
            "Training epoch 61/100\n",
            "Training epoch 62/100\n",
            "Training epoch 63/100\n",
            "Training epoch 64/100\n",
            "Training epoch 65/100\n",
            "Training epoch 66/100\n",
            "Training epoch 67/100\n",
            "Training epoch 68/100\n",
            "Training epoch 69/100\n",
            "Training epoch 70/100\n",
            "Finished 70 epochs\n",
            "  loss: 0.859\n",
            "Training epoch 71/100\n",
            "Training epoch 72/100\n",
            "Training epoch 73/100\n",
            "Training epoch 74/100\n",
            "Training epoch 75/100\n",
            "Training epoch 76/100\n",
            "Training epoch 77/100\n",
            "Training epoch 78/100\n",
            "Training epoch 79/100\n",
            "Training epoch 80/100\n",
            "Finished 80 epochs\n",
            "  loss: 0.773\n",
            "Training epoch 81/100\n",
            "Training epoch 82/100\n",
            "Training epoch 83/100\n",
            "Training epoch 84/100\n",
            "Training epoch 85/100\n",
            "Training epoch 86/100\n",
            "Training epoch 87/100\n",
            "Training epoch 88/100\n",
            "Training epoch 89/100\n",
            "Training epoch 90/100\n",
            "Finished 90 epochs\n",
            "  loss: 0.690\n",
            "Training epoch 91/100\n",
            "Training epoch 92/100\n",
            "Training epoch 93/100\n",
            "Training epoch 94/100\n",
            "Training epoch 95/100\n",
            "Training epoch 96/100\n",
            "Training epoch 97/100\n",
            "Training epoch 98/100\n",
            "Training epoch 99/100\n",
            "Training epoch 100/100\n",
            "Finished 100 epochs\n",
            "  loss: 0.979\n"
          ]
        },
        {
          "output_type": "execute_result",
          "data": {
            "text/plain": [
              "{'checkpoint_path': <tf.Tensor: shape=(), dtype=string, numpy=b'/tmp/model.ckpt'>}"
            ]
          },
          "metadata": {},
          "execution_count": 33
        }
      ],
      "source": [
        "NUM_EPOCHS = 100\n",
        "step_per_epochs = len(train_batches)\n",
        "epochs = np.arange(1, NUM_EPOCHS + 1, 1)\n",
        "losses = np.zeros([NUM_EPOCHS])\n",
        "m = Model()\n",
        "\n",
        "for i in range(NUM_EPOCHS):\n",
        "  print(f\"Training epoch {i + 1}/{NUM_EPOCHS}\")\n",
        "  for step, (x,y) in enumerate(train_batches):\n",
        "    if (step+1) == step_per_epochs:\n",
        "      break\n",
        "    result = m.train(x, y)\n",
        "  losses[i] = result['loss']\n",
        "  if (i + 1) % 10 == 0:\n",
        "    print(f\"Finished {i+1} epochs\")\n",
        "    print(f\"  loss: {losses[i]:.3f}\")\n",
        "\n",
        "# Save the trained weights to a checkpoint.\n",
        "m.save('/tmp/model.ckpt')"
      ]
    },
    {
      "cell_type": "code",
      "source": [
        "plt.plot(epochs, losses, label='Pre-training')\n",
        "plt.ylim([0, max(plt.ylim())])\n",
        "plt.xlabel('Epoch')\n",
        "plt.ylabel('Loss [Cross Entropy]')\n",
        "plt.legend();"
      ],
      "metadata": {
        "colab": {
          "base_uri": "https://localhost:8080/",
          "height": 449
        },
        "id": "YDNMMXstf4NR",
        "outputId": "090a1b15-6ac5-42fe-850d-f0105cea1d3f"
      },
      "execution_count": null,
      "outputs": [
        {
          "output_type": "display_data",
          "data": {
            "text/plain": [
              "<Figure size 640x480 with 1 Axes>"
            ],
            "image/png": "[encoded data removed]"
          },
          "metadata": {}
        }
      ]
    },
    {
      "cell_type": "code",
      "source": [
        "SAVED_MODEL_DIR = \"saved_model\"\n",
        "\n",
        "tf.saved_model.save(\n",
        "    m,\n",
        "    SAVED_MODEL_DIR,\n",
        "    signatures={\n",
        "        'train':\n",
        "            m.train.get_concrete_function(),\n",
        "        'infer':\n",
        "            m.infer.get_concrete_function(),\n",
        "        'save':\n",
        "            m.save.get_concrete_function(),\n",
        "        'restore':\n",
        "            m.restore.get_concrete_function(),\n",
        "    })\n",
        "\n",
        "# Convert the model\n",
        "converter = tf.lite.TFLiteConverter.from_saved_model(SAVED_MODEL_DIR)\n",
        "converter.target_spec.supported_ops = [\n",
        "    tf.lite.OpsSet.TFLITE_BUILTINS,  # enable TensorFlow Lite ops.\n",
        "    tf.lite.OpsSet.SELECT_TF_OPS  # enable TensorFlow ops.\n",
        "]\n",
        "converter.experimental_enable_resource_variables = True\n",
        "tflite_model = converter.convert()"
      ],
      "metadata": {
        "colab": {
          "base_uri": "https://localhost:8080/"
        },
        "id": "RGUxuiHvhL2P",
        "outputId": "0f827f9e-3e4d-4e98-8a61-5bd683d2c3c2"
      },
      "execution_count": null,
      "outputs": [
        {
          "output_type": "stream",
          "name": "stderr",
          "text": [
            "WARNING:absl:Found untraced functions such as _jit_compiled_convolution_op, _jit_compiled_convolution_op, _jit_compiled_convolution_op, _jit_compiled_convolution_op, _jit_compiled_convolution_op while saving (showing 5 of 52). These functions will not be directly callable after loading.\n",
            "WARNING:absl:Importing a function (__inference_internal_grad_fn_151567) with ops with unsaved custom gradients. Will likely fail if a gradient is requested.\n",
            "WARNING:absl:Importing a function (__inference_internal_grad_fn_151551) with ops with unsaved custom gradients. Will likely fail if a gradient is requested.\n"
          ]
        }
      ]
    },
    {
      "cell_type": "code",
      "source": [
        "interpreter = tf.lite.Interpreter(model_content=tflite_model)\n",
        "interpreter.allocate_tensors()\n",
        "\n",
        "infer = interpreter.get_signature_runner(\"infer\")"
      ],
      "metadata": {
        "id": "eyWdKiUthfIo"
      },
      "execution_count": null,
      "outputs": []
    },
    {
      "cell_type": "code",
      "source": [
        "train_batches[0][0].shape"
      ],
      "metadata": {
        "colab": {
          "base_uri": "https://localhost:8080/"
        },
        "id": "_JK7EDOqhp_4",
        "outputId": "dbe942da-e765-4f97-e22c-99019b288d42"
      },
      "execution_count": null,
      "outputs": [
        {
          "output_type": "execute_result",
          "data": {
            "text/plain": [
              "(4, 160, 160, 3)"
            ]
          },
          "metadata": {},
          "execution_count": 43
        }
      ]
    },
    {
      "cell_type": "code",
      "source": [
        "logits_original = m.infer(x=train_batches[0][0][:1])['logits'][0]\n",
        "logits_lite = infer(x=train_batches[0][0][:1])['logits'][0]"
      ],
      "metadata": {
        "id": "T3J1EwWghiKQ"
      },
      "execution_count": null,
      "outputs": []
    },
    {
      "cell_type": "code",
      "source": [
        "logits_original"
      ],
      "metadata": {
        "colab": {
          "base_uri": "https://localhost:8080/"
        },
        "id": "Pm4MOnyRjOAJ",
        "outputId": "977903ac-f1a7-40aa-f34d-9631d63e1f53"
      },
      "execution_count": null,
      "outputs": [
        {
          "output_type": "execute_result",
          "data": {
            "text/plain": [
              "<tf.Tensor: shape=(1,), dtype=float32, numpy=array([0.6674573], dtype=float32)>"
            ]
          },
          "metadata": {},
          "execution_count": 47
        }
      ]
    },
    {
      "cell_type": "code",
      "source": [],
      "metadata": {
        "id": "mM3O6t1ElKkx"
      },
      "execution_count": null,
      "outputs": []
    },
    {
      "cell_type": "code",
      "source": [
        "#@title\n",
        "def compare_logits(logits):\n",
        "  width = 0.35\n",
        "  offset = width/2\n",
        "  assert len(logits)==2\n",
        "\n",
        "  keys = list(logits.keys())\n",
        "  print(np.arange(len(logits[keys[0]]) - offset))\n",
        "  plt.bar(x = np.arange(len(logits[keys[0]]))-offset,\n",
        "      height=logits[keys[0]], width=0.35, label=keys[0])\n",
        "  plt.bar(x = np.arange(len(logits[keys[1]]))+offset,\n",
        "      height=logits[keys[1]], width=0.35, label=keys[1])\n",
        "  plt.legend()\n",
        "  plt.grid(True)\n",
        "  plt.ylabel('Logit')\n",
        "  plt.xlabel('ClassID')\n",
        "\n",
        "  delta = np.sum(np.abs(logits[keys[0]] - logits[keys[1]]))\n",
        "  plt.title(f\"Total difference: {delta:.3g}\")\n",
        "\n",
        "compare_logits({'Original': logits_original, 'Lite': logits_lite})"
      ],
      "metadata": {
        "colab": {
          "base_uri": "https://localhost:8080/",
          "height": 489
        },
        "id": "QepvP1oLiBiY",
        "outputId": "beb56137-417d-4480-e33b-c6813ac19e7e"
      },
      "execution_count": null,
      "outputs": [
        {
          "output_type": "stream",
          "name": "stdout",
          "text": [
            "[0.]\n"
          ]
        },
        {
          "output_type": "display_data",
          "data": {
            "text/plain": [
              "<Figure size 640x480 with 1 Axes>"
            ],
            "image/png": "[encoded data removed]"
          },
          "metadata": {}
        }
      ]
    },
    {
      "cell_type": "code",
      "source": [
        "import os"
      ],
      "metadata": {
        "id": "kazIndhEbiR-"
      },
      "execution_count": null,
      "outputs": []
    },
    {
      "cell_type": "code",
      "source": [
        "converter = tf.lite.TFLiteConverter.from_saved_model(saved_model_dir)\n",
        "converter.target_spec.supported_ops = [\n",
        "    tf.lite.OpsSet.TFLITE_BUILTINS,  # enable TensorFlow Lite ops.\n",
        "    tf.lite.OpsSet.SELECT_TF_OPS  # enable TensorFlow ops.\n",
        "]\n",
        "converter.experimental_enable_resource_variables = True\n",
        "tflite_model = converter.convert()\n",
        "\n",
        "model_file_path = os.path.join('model.tflite')\n",
        "with open(model_file_path, 'wb') as model_file:\n",
        "  model_file.write(tflite_model)"
      ],
      "metadata": {
        "colab": {
          "base_uri": "https://localhost:8080/"
        },
        "id": "jgz0rGHqbeV4",
        "outputId": "535f6925-23f4-425e-ee6c-3b8b4770f6e4"
      },
      "execution_count": null,
      "outputs": [
        {
          "output_type": "stream",
          "name": "stderr",
          "text": [
            "WARNING:absl:Importing a function (__inference_internal_grad_fn_151567) with ops with unsaved custom gradients. Will likely fail if a gradient is requested.\n",
            "WARNING:absl:Importing a function (__inference_internal_grad_fn_151551) with ops with unsaved custom gradients. Will likely fail if a gradient is requested.\n"
          ]
        }
      ]
    }
  ],
  "metadata": {
    "accelerator": "GPU",
    "colab": {
      "provenance": []
    },
    "kernelspec": {
      "display_name": "Python 3",
      "name": "python3"
    },
    "language_info": {
      "name": "python"
    }
  },
  "nbformat": 4,
  "nbformat_minor": 0
}